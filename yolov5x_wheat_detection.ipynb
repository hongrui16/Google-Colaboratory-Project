{
  "nbformat": 4,
  "nbformat_minor": 0,
  "metadata": {
    "colab": {
      "name": "yolov5x_wheat_detection.ipynb",
      "provenance": [],
      "private_outputs": true,
      "collapsed_sections": [],
      "authorship_tag": "ABX9TyPzVHObOlFOWOr0RGSx+QLC",
      "include_colab_link": true
    },
    "kernelspec": {
      "name": "python3",
      "display_name": "Python 3"
    },
    "accelerator": "GPU"
  },
  "cells": [
    {
      "cell_type": "markdown",
      "metadata": {
        "id": "view-in-github",
        "colab_type": "text"
      },
      "source": [
        "<a href=\"https://colab.research.google.com/github/hongrui16/Google-Colaboratory-Project/blob/master/yolov5x_wheat_detection.ipynb\" target=\"_parent\"><img src=\"https://colab.research.google.com/assets/colab-badge.svg\" alt=\"Open In Colab\"/></a>"
      ]
    },
    {
      "cell_type": "code",
      "metadata": {
        "id": "RuBSQSEHf1Dj",
        "colab_type": "code",
        "colab": {}
      },
      "source": [
        "!ls\n",
        "!git clone https://github.com/ultralytics/yolov5 "
      ],
      "execution_count": null,
      "outputs": []
    },
    {
      "cell_type": "markdown",
      "metadata": {
        "id": "1mPVwJ8BgTyy",
        "colab_type": "text"
      },
      "source": [
        ""
      ]
    },
    {
      "cell_type": "code",
      "metadata": {
        "id": "bOtsfeoEgRkL",
        "colab_type": "code",
        "colab": {}
      },
      "source": [
        "!pip install -qr yolov5/requirements.txt  # install dependencies (ignore errors)\n",
        "%cd yolov5"
      ],
      "execution_count": null,
      "outputs": []
    },
    {
      "cell_type": "code",
      "metadata": {
        "id": "gLrXR9K2g4B-",
        "colab_type": "code",
        "colab": {}
      },
      "source": [
        "import torch\n",
        "from IPython.display import Image, clear_output  # to display images\n",
        "from utils.google_utils import gdrive_download  # to download models/datasets\n",
        "\n",
        "clear_output()\n",
        "print('Setup complete. Using torch %s %s' % (torch.__version__, torch.cuda.get_device_properties(0) if torch.cuda.is_available() else 'CPU'))"
      ],
      "execution_count": null,
      "outputs": []
    },
    {
      "cell_type": "code",
      "metadata": {
        "id": "-y8J5t6QhAKG",
        "colab_type": "code",
        "colab": {}
      },
      "source": [
        "%cd ..\n",
        "!ls"
      ],
      "execution_count": null,
      "outputs": []
    },
    {
      "cell_type": "code",
      "metadata": {
        "id": "irmF6HEDhTLO",
        "colab_type": "code",
        "colab": {}
      },
      "source": [
        "# installing pydrive for dataset extraction from Google Drive\n",
        "!pip install -U -q PyDrive\n",
        "\n",
        "# dependencies required for the dataset\n",
        "from pydrive.auth import GoogleAuth\n",
        "from pydrive.drive import GoogleDrive\n",
        "from google.colab import auth\n",
        "from oauth2client.client import GoogleCredentials\n",
        "\n",
        "# authenticating\n",
        "auth.authenticate_user()\n",
        "gauth = GoogleAuth()\n",
        "gauth.credentials = GoogleCredentials.get_application_default()\n",
        "drive = GoogleDrive(gauth)\n",
        "\n",
        "# dataset for Image Classification from Google Drive Sharerable id=1lpASoMgbZorP3iI6q_AY8HRcDk352yao\n",
        "dataset_downloaded = drive.CreateFile({'id': '1hWNyeII5qLmBQfOtVldzAuRdr2293ZzN'})\n",
        "dataset_downloaded.GetContentFile('global-wheat-detection.zip')"
      ],
      "execution_count": null,
      "outputs": []
    },
    {
      "cell_type": "code",
      "metadata": {
        "id": "tL-kEWwXhlDN",
        "colab_type": "code",
        "colab": {}
      },
      "source": [
        "!ls"
      ],
      "execution_count": null,
      "outputs": []
    },
    {
      "cell_type": "code",
      "metadata": {
        "id": "wfbIThElhuQE",
        "colab_type": "code",
        "colab": {}
      },
      "source": [
        "!unzip global-wheat-detection.zip"
      ],
      "execution_count": null,
      "outputs": []
    },
    {
      "cell_type": "code",
      "metadata": {
        "id": "vvjtu2ayiMVH",
        "colab_type": "code",
        "colab": {}
      },
      "source": [
        "!mkdir -p wheat_dataset/images/train wheat_dataset/images/validation wheat_dataset/labels/train wheat_dataset/labels/validation\n"
      ],
      "execution_count": null,
      "outputs": []
    },
    {
      "cell_type": "markdown",
      "metadata": {
        "id": "9Af5_rESg_S1",
        "colab_type": "text"
      },
      "source": [
        ""
      ]
    },
    {
      "cell_type": "code",
      "metadata": {
        "id": "jzRFx9WnidCh",
        "colab_type": "code",
        "colab": {}
      },
      "source": [
        "!pwd\n",
        "!ls"
      ],
      "execution_count": null,
      "outputs": []
    },
    {
      "cell_type": "code",
      "metadata": {
        "id": "TIkXCeJbp7SX",
        "colab_type": "code",
        "colab": {}
      },
      "source": [
        "import pandas as pd\n",
        "import ast # for converting string to list\n",
        "\n",
        "df = pd.read_csv('train.csv')\n",
        "df['bbox'] = df['bbox'].apply(ast.literal_eval)\n",
        "df = df.groupby(\"image_id\")[\"bbox\"].apply(list).reset_index(name = \"bboxes\")\n",
        "\n",
        "\n",
        "# dividing the data int train test slit\n",
        "from sklearn import model_selection\n",
        "\n",
        "df_train , df_valid = model_selection.train_test_split(\n",
        "    df,\n",
        "    test_size = 0.1,\n",
        "    random_state = 42,\n",
        "    shuffle = True\n",
        "    )\n",
        "\n",
        "df_train = df_train.reset_index(drop = True)\n",
        "df_valid = df_valid.reset_index(drop = True)\n",
        "\n",
        "from tqdm import tqdm\n",
        "import numpy as np\n",
        "import shutil \n",
        "import os\n",
        "\n",
        "output_path = '/content/wheat_dataset'\n",
        "\n",
        "def process_data(dataframe , data_type = \"train\"): # data_type is used for selecting the specific folder\n",
        "  for _, row in tqdm(dataframe.iterrows() , total = len(dataframe)):\n",
        "    image_name = row['image_id']\n",
        "    bounding_boxes = row['bboxes']\n",
        "\n",
        "    yolo_data = []\n",
        "\n",
        "    for bbox in bounding_boxes:\n",
        "      x = bbox[0]\n",
        "      y = bbox[1]\n",
        "      w = bbox[2]\n",
        "      h = bbox[3]\n",
        "\n",
        "      # normalising the co-ordinates\n",
        "      x_center = x + w / 2\n",
        "      y_center = y + h / 2\n",
        "      x_center /= 1024.0 \n",
        "      y_center /= 1024.0 \n",
        "      w /= 1024.0\n",
        "      h /= 1024.0\n",
        "\n",
        "      yolo_data.append([0,x_center,y_center,w,h])\n",
        "\n",
        "    yolo_data = np.array(yolo_data)\n",
        "    \n",
        "    # saving in txt format\n",
        "    np.savetxt(\n",
        "        os.path.join(output_path,f\"labels/{data_type}/{image_name}.txt\"),\n",
        "        yolo_data,\n",
        "        fmt=[\"%d\",\"%f\",\"%f\",\"%f\",\"%f\"]\n",
        "    )\n",
        "\n",
        "    # copy the images output_path images folder\n",
        "    shutil.copyfile(\n",
        "        os.path.join('/content/train',f\"{image_name}.jpg\"), # from path\n",
        "        os.path.join(output_path,f\"images/{data_type}/{image_name}.jpg\")  # to path\n",
        "        )\n",
        "    \n",
        "    \n",
        "process_data(df_train , data_type = \"train\")\n",
        "process_data(df_valid , data_type = \"validation\")"
      ],
      "execution_count": null,
      "outputs": []
    },
    {
      "cell_type": "code",
      "metadata": {
        "id": "mj3YFvL4i5N-",
        "colab_type": "code",
        "colab": {}
      },
      "source": [
        "f = open(\"/content/yolov5/data/wheat.yaml\", \"w\")\n",
        "f.write(\"train: /content/wheat_dataset/images/train/\\nval: /content/wheat_dataset/images/validation/\\nnc: 1\\nnames: ['wheat_head']\")\n",
        "f.close()"
      ],
      "execution_count": null,
      "outputs": []
    },
    {
      "cell_type": "code",
      "metadata": {
        "id": "KlmvuFTMjCVv",
        "colab_type": "code",
        "colab": {}
      },
      "source": [
        "!cat /content/yolov5/data/wheat.yaml"
      ],
      "execution_count": null,
      "outputs": []
    },
    {
      "cell_type": "code",
      "metadata": {
        "id": "mljaR63GjKGX",
        "colab_type": "code",
        "colab": {}
      },
      "source": [
        "!mkdir /content/yolov5/pre-trained_model"
      ],
      "execution_count": null,
      "outputs": []
    },
    {
      "cell_type": "code",
      "metadata": {
        "id": "tQD9WrBsjZP-",
        "colab_type": "code",
        "colab": {}
      },
      "source": [
        "%cd /content/yolov5/pre-trained_model\n",
        "# download pre-trained model, yolov5x, https://drive.google.com/file/d/1mM8aZJlWTxOg7BZJvNUMrTnA2AbeCVzS/view?usp=sharing\n",
        "dataset_downloaded = drive.CreateFile({'id': '1mM8aZJlWTxOg7BZJvNUMrTnA2AbeCVzS'})\n",
        "dataset_downloaded.GetContentFile('yolov5x.pt')"
      ],
      "execution_count": null,
      "outputs": []
    },
    {
      "cell_type": "code",
      "metadata": {
        "id": "R4TCpBo1j92V",
        "colab_type": "code",
        "colab": {}
      },
      "source": [
        "!pwd\n",
        "!ls"
      ],
      "execution_count": null,
      "outputs": []
    },
    {
      "cell_type": "code",
      "metadata": {
        "id": "SFnvspSmkFop",
        "colab_type": "code",
        "colab": {}
      },
      "source": [
        "%cd /content/yolov5/\n",
        "!python train.py --img 1024 --batch 32 --epochs 10 --data data/wheat.yaml --cfg models/yolov5s.yaml --name wm --nosave --cache --resume pre-trained_model/yolov5x.pt"
      ],
      "execution_count": null,
      "outputs": []
    }
  ]
}